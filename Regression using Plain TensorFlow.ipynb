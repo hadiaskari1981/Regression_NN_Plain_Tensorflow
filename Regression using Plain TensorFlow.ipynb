{
 "cells": [
  {
   "cell_type": "code",
   "execution_count": 1,
   "metadata": {},
   "outputs": [],
   "source": [
    "# To support both python 2 and python 3\n",
    "from __future__ import division, print_function, unicode_literals\n",
    "# to make this notebook's output stable across runs\n",
    "def reset_graph(seed=42):\n",
    "    tf.reset_default_graph()\n",
    "    tf.set_random_seed(seed)\n",
    "    np.random.seed(seed)"
   ]
  },
  {
   "cell_type": "code",
   "execution_count": 2,
   "metadata": {},
   "outputs": [
    {
     "name": "stderr",
     "output_type": "stream",
     "text": [
      "C:\\Users\\Hadi\\Anaconda3\\lib\\site-packages\\h5py\\__init__.py:36: FutureWarning: Conversion of the second argument of issubdtype from `float` to `np.floating` is deprecated. In future, it will be treated as `np.float64 == np.dtype(float).type`.\n",
      "  from ._conv import register_converters as _register_converters\n"
     ]
    }
   ],
   "source": [
    "import tensorflow as tf\n",
    "import numpy as np\n",
    "import pandas as pd"
   ]
  },
  {
   "cell_type": "code",
   "execution_count": 3,
   "metadata": {},
   "outputs": [],
   "source": [
    "from sklearn.datasets import fetch_california_housing\n",
    "reset_graph()\n",
    "housing = fetch_california_housing()\n",
    "m, n = housing.data.shape\n",
    "\n",
    "\n",
    "from sklearn.preprocessing import StandardScaler\n",
    "scaler = StandardScaler()\n",
    "scaled_housing_data = scaler.fit_transform(housing.data)\n",
    "scaled_housing_data_plus_bias = np.c_[np.ones((m,1)), scaled_housing_data]"
   ]
  },
  {
   "cell_type": "code",
   "execution_count": 4,
   "metadata": {},
   "outputs": [],
   "source": [
    "housing_cal = pd.read_csv('./california-housing-prices/housing_numric.csv')\n",
    "housing_cal=housing_cal.dropna(axis=0)\n",
    "housing_cal.isnull().sum(axis=0)\n",
    "housing_cal.median_house_value=housing_cal.median_house_value/100000\n",
    "housing_cal.isnull().sum(axis=0)\n",
    "housing_cal=housing_cal.astype('float64')\n",
    "\n",
    "from sklearn.model_selection import train_test_split\n",
    "train, test = train_test_split(housing_cal, test_size=0.2)\n",
    "\n",
    "x_train, y_train = train, train.pop(\"median_house_value\")\n",
    "x_test, y_test = test, test.pop(\"median_house_value\")\n",
    "\n",
    "feature_cols = [tf.feature_column.numeric_column(\"X\", shape=[9])]\n",
    "\n",
    "from sklearn.preprocessing import StandardScaler\n",
    "scaler = StandardScaler()\n",
    "x_train_scaled = scaler.fit_transform(x_train)\n",
    "x_test_scaled = scaler.fit_transform(x_test)\n",
    "m, n =x_train.shape\n",
    "m1, n1 = x_test.shape\n",
    "x_train_scaled_plus_bias = np.c_[np.ones((m, 1)), x_train_scaled]\n",
    "x_test_scaled_plus_bias = np.c_[np.ones((m1, 1)), x_test_scaled]\n",
    "y_train, y_test= y_train.to_numpy().reshape(-1,1), y_test.to_numpy().reshape(-1,1)"
   ]
  },
  {
   "cell_type": "code",
   "execution_count": 5,
   "metadata": {},
   "outputs": [],
   "source": [
    "n_inputs = 8\n",
    "n_hidden1 = 1024\n",
    "n_hidden2 = 512\n",
    "n_hidden3 = 256\n",
    "n_outputs = 1"
   ]
  },
  {
   "cell_type": "code",
   "execution_count": 6,
   "metadata": {},
   "outputs": [],
   "source": [
    "X = tf.placeholder(tf.float64, shape=(None, n_inputs+1), name=\"X\")\n",
    "y = tf.placeholder(tf.float64, shape=(None,1), name=\"y\")"
   ]
  },
  {
   "cell_type": "code",
   "execution_count": 7,
   "metadata": {},
   "outputs": [],
   "source": [
    "with tf.name_scope(\"dnn\"):\n",
    "    hidden1 = tf.layers.dense(X, n_hidden1, name=\"hidden1\",\n",
    "                              activation=tf.nn.relu)\n",
    "    hidden2 = tf.layers.dense(hidden1, n_hidden2, name=\"hidden2\",\n",
    "                              activation=tf.nn.relu)\n",
    "    hidden3 = tf.layers.dense(hidden2, n_hidden3, name=\"hidden3\",\n",
    "                              activation=tf.nn.relu)\n",
    "    output = tf.layers.dense(hidden3, n_outputs, name=\"output\")"
   ]
  },
  {
   "cell_type": "code",
   "execution_count": 8,
   "metadata": {},
   "outputs": [],
   "source": [
    "with tf.name_scope(\"loss\"):\n",
    "    mse = tf.losses.mean_squared_error(labels=y, predictions=output)   # compute cost"
   ]
  },
  {
   "cell_type": "code",
   "execution_count": 9,
   "metadata": {},
   "outputs": [],
   "source": [
    "learning_rate = 0.01\n",
    "\n",
    "with tf.name_scope(\"train\"):\n",
    "    optimizer = tf.train.GradientDescentOptimizer(learning_rate)\n",
    "    training_op = optimizer.minimize(mse)"
   ]
  },
  {
   "cell_type": "code",
   "execution_count": 10,
   "metadata": {},
   "outputs": [],
   "source": [
    "init = tf.global_variables_initializer()"
   ]
  },
  {
   "cell_type": "code",
   "execution_count": 11,
   "metadata": {},
   "outputs": [],
   "source": [
    "n_epochs = 30\n",
    "batch_size = 50"
   ]
  },
  {
   "cell_type": "code",
   "execution_count": 12,
   "metadata": {},
   "outputs": [],
   "source": [
    "#from book: hands on machine learning and tensorflow\n",
    "def shuffle_batch(X, y, batch_size):\n",
    "    rnd_idx = np.random.permutation(len(X))\n",
    "    n_batches = len(X) // batch_size\n",
    "    for batch_idx in np.array_split(rnd_idx, n_batches):\n",
    "        X_batch, y_batch = X[batch_idx], y[batch_idx]\n",
    "        yield X_batch, y_batch"
   ]
  },
  {
   "cell_type": "code",
   "execution_count": 13,
   "metadata": {},
   "outputs": [
    {
     "name": "stdout",
     "output_type": "stream",
     "text": [
      "Epoch 0 MSE = 0.26852173\n",
      "Epoch 10 MSE = 0.18047287\n",
      "Epoch 20 MSE = 0.16375984\n",
      "Epoch 30 MSE = 0.17355014\n",
      "mse_test : 0.31315097\n"
     ]
    }
   ],
   "source": [
    "with tf.Session() as sess:\n",
    "    init.run()\n",
    "    for epoch in range(n_epochs+1):\n",
    "        for X_batch, y_batch in shuffle_batch(x_train_scaled_plus_bias, y_train, batch_size):\n",
    "            train, mse_, pred = sess.run([training_op, mse, output], feed_dict={X: X_batch, y: y_batch})\n",
    "        if epoch % 10 == 0:\n",
    "            print(\"Epoch\", epoch, \"MSE =\", mse.eval(feed_dict={X: X_batch, y: y_batch}))\n",
    "    print('mse_test :',sess.run(mse, feed_dict={X:x_test_scaled_plus_bias, y:y_test}))\n",
    "    \n",
    "    pred_test =sess.run(output, feed_dict={X:x_test_scaled_plus_bias})"
   ]
  },
  {
   "cell_type": "code",
   "execution_count": 16,
   "metadata": {},
   "outputs": [
    {
     "data": {
      "text/plain": [
       "array([[2.26694183],\n",
       "       [1.00785001],\n",
       "       [3.28916842],\n",
       "       [1.84469159],\n",
       "       [1.83710414],\n",
       "       [3.04596103],\n",
       "       [0.62423059],\n",
       "       [4.75254152],\n",
       "       [1.10005477],\n",
       "       [2.20350022],\n",
       "       [1.83657066],\n",
       "       [1.27862244],\n",
       "       [0.60975983],\n",
       "       [1.00363277],\n",
       "       [1.29436435]])"
      ]
     },
     "execution_count": 16,
     "metadata": {},
     "output_type": "execute_result"
    }
   ],
   "source": [
    "pred_test[500:515]"
   ]
  },
  {
   "cell_type": "code",
   "execution_count": 17,
   "metadata": {},
   "outputs": [
    {
     "data": {
      "text/plain": [
       "array([[1.919  ],\n",
       "       [0.993  ],\n",
       "       [3.545  ],\n",
       "       [1.808  ],\n",
       "       [1.727  ],\n",
       "       [2.824  ],\n",
       "       [0.47   ],\n",
       "       [5.00001],\n",
       "       [1.08   ],\n",
       "       [2.825  ],\n",
       "       [2.012  ],\n",
       "       [1.653  ],\n",
       "       [0.661  ],\n",
       "       [0.725  ],\n",
       "       [1.139  ]])"
      ]
     },
     "execution_count": 17,
     "metadata": {},
     "output_type": "execute_result"
    }
   ],
   "source": [
    "y_test[500:515]"
   ]
  },
  {
   "cell_type": "code",
   "execution_count": null,
   "metadata": {},
   "outputs": [],
   "source": []
  }
 ],
 "metadata": {
  "kernelspec": {
   "display_name": "Python 3",
   "language": "python",
   "name": "python3"
  },
  "language_info": {
   "codemirror_mode": {
    "name": "ipython",
    "version": 3
   },
   "file_extension": ".py",
   "mimetype": "text/x-python",
   "name": "python",
   "nbconvert_exporter": "python",
   "pygments_lexer": "ipython3",
   "version": "3.5.5"
  }
 },
 "nbformat": 4,
 "nbformat_minor": 2
}
